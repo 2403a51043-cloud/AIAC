{
  "nbformat": 4,
  "nbformat_minor": 0,
  "metadata": {
    "colab": {
      "provenance": []
    },
    "kernelspec": {
      "name": "python3",
      "display_name": "Python 3"
    },
    "language_info": {
      "name": "python"
    }
  },
  "cells": [
    {
      "cell_type": "code",
      "execution_count": null,
      "metadata": {
        "id": "XELpMXcVvwbD"
      },
      "outputs": [],
      "source": []
    },
    {
      "cell_type": "markdown",
      "source": [
        "Task Description#1\n",
        "●\tZero-shot: Prompt AI to write a function that checks whether a given year is a leap year.\n",
        "Expected Output#1\n",
        "●\tAI-generated function with no examples provided\n",
        "\n"
      ],
      "metadata": {
        "id": "h8969MTOv1YD"
      }
    },
    {
      "cell_type": "code",
      "metadata": {
        "colab": {
          "base_uri": "https://localhost:8080/"
        },
        "id": "d23530da",
        "outputId": "ad9db235-7453-4c67-9ee7-52d5a17e4d32"
      },
      "source": [
        "def is_leap_year(year):\n",
        "  \"\"\"Checks if a given year is a leap year.\"\"\"\n",
        "  return (year % 4 == 0 and year % 100 != 0) or (year % 400 == 0)\n",
        "\n",
        "# Example usage:\n",
        "year_to_check = 2024\n",
        "if is_leap_year(year_to_check):\n",
        "  print(f\"{year_to_check} is a leap year.\")\n",
        "else:\n",
        "  print(f\"{year_to_check} is not a leap year.\")"
      ],
      "execution_count": 1,
      "outputs": [
        {
          "output_type": "stream",
          "name": "stdout",
          "text": [
            "2024 is a leap year.\n"
          ]
        }
      ]
    },
    {
      "cell_type": "markdown",
      "source": [],
      "metadata": {
        "id": "zN81TEB7wRYa"
      }
    },
    {
      "cell_type": "markdown",
      "source": [
        "\n",
        "Task Description#2\n",
        "●\tOne-shot: Give one input-output example to guide AI in writing a function that converts centimeters to inches.\n",
        "Expected Output#2\n",
        "●\tFunction with correct conversion logic\n",
        "\n",
        "\n"
      ],
      "metadata": {
        "id": "ZEEJE7JlDDFi"
      }
    },
    {
      "cell_type": "code",
      "metadata": {
        "colab": {
          "base_uri": "https://localhost:8080/"
        },
        "id": "973da557",
        "outputId": "5f461628-2277-4980-a38b-f5bcab1d32cb"
      },
      "source": [
        "def cm_to_inches(cm):\n",
        "  \"\"\"Converts centimeters to inches.\"\"\"\n",
        "  return cm * 0.3937\n",
        "\n",
        "# Get input from the user\n",
        "try:\n",
        "  cm_value = float(input(\"Enter the value in centimeters: \"))\n",
        "  inches_value = cm_to_inches(cm_value)\n",
        "  print(f\"{cm_value} centimeters is equal to {inches_value:.4f} inches.\")\n",
        "except ValueError:\n",
        "  print(\"Invalid input. Please enter a numerical value for centimeters.\")"
      ],
      "execution_count": 1,
      "outputs": [
        {
          "output_type": "stream",
          "name": "stdout",
          "text": [
            "Enter the value in centimeters: 10\n",
            "10.0 centimeters is equal to 3.9370 inches.\n"
          ]
        }
      ]
    },
    {
      "cell_type": "markdown",
      "source": [
        "Task Description#3\n",
        "●\tFew-shot: Provide 2–3 examples to generate a function that formats full names as “Last, First”.\n",
        "Expected Output#3\n",
        "●\tWell-structured function respecting the examples\n",
        "\n",
        "\n"
      ],
      "metadata": {
        "id": "X2pJh64bDkMC"
      }
    },
    {
      "cell_type": "code",
      "metadata": {
        "colab": {
          "base_uri": "https://localhost:8080/"
        },
        "id": "8d78ef3d",
        "outputId": "93fb0479-c1bc-435f-8ed6-841e5b093899"
      },
      "source": [
        "def format_name(first_name, last_name):\n",
        "  \"\"\"Formats a full name as 'Last, First'.\"\"\"\n",
        "  return f\"{last_name}, {first_name}\"\n",
        "\n",
        "# Get input from the user\n",
        "first_name = input(\"Enter the first name: \")\n",
        "last_name = input(\"Enter the last name: \")\n",
        "\n",
        "# Format and display the name\n",
        "formatted_name = format_name(first_name, last_name)\n",
        "print(formatted_name)"
      ],
      "execution_count": 2,
      "outputs": [
        {
          "output_type": "stream",
          "name": "stdout",
          "text": [
            "Enter the first name: Hi \n",
            "Enter the last name: Hello\n",
            "Hello, Hi \n"
          ]
        }
      ]
    },
    {
      "cell_type": "markdown",
      "source": [
        "Task Description#4\n",
        "●\tCompare zero-shot and few-shot prompts for writing a function that counts the number of vowels in a string.\n",
        "Expected Output#4\n",
        "●\tFunctional output and comparative reflection\n",
        "\n"
      ],
      "metadata": {
        "id": "S2Zf6aUxD9c7"
      }
    },
    {
      "cell_type": "code",
      "metadata": {
        "colab": {
          "base_uri": "https://localhost:8080/"
        },
        "id": "f4b6371f",
        "outputId": "ada808bc-2862-48b3-b501-4782a6a1f4d9"
      },
      "source": [
        "def count_vowels(text):\n",
        "  \"\"\"Counts the number of vowels in a given string.\"\"\"\n",
        "  vowels = \"aeiouAEIOU\"\n",
        "  vowel_count = 0\n",
        "  for char in text:\n",
        "    if char in vowels:\n",
        "      vowel_count += 1\n",
        "  return vowel_count\n",
        "\n",
        "# Get input from the user\n",
        "input_string = input(\"Enter a string: \")\n",
        "\n",
        "# Count and display the vowels\n",
        "num_vowels = count_vowels(input_string)\n",
        "print(f\"No.of.vowels={num_vowels}\")"
      ],
      "execution_count": 3,
      "outputs": [
        {
          "output_type": "stream",
          "name": "stdout",
          "text": [
            "Enter a string: Hello\n",
            "The number of vowels in the string is: 2\n"
          ]
        }
      ]
    },
    {
      "cell_type": "markdown",
      "source": [
        "Task Description#4\n",
        "●\tCompare zero-shot and few-shot prompts for writing a function that counts the number of vowels in a string.\n",
        "Expected Output#4\n",
        "●\tFunctional output and comparative reflection\n",
        "\n"
      ],
      "metadata": {
        "id": "bUG4ts5TFYSh"
      }
    },
    {
      "cell_type": "code",
      "metadata": {
        "colab": {
          "base_uri": "https://localhost:8080/"
        },
        "id": "e2cc74f8",
        "outputId": "dec29700-e7e1-448c-fcf6-c31c6322e414"
      },
      "source": [
        "def count_vowels(text):\n",
        "  \"\"\"Counts the number of vowels in a given string.\"\"\"\n",
        "  vowels = \"aeiouAEIOU\"\n",
        "  vowel_count = 0\n",
        "  for char in text:\n",
        "    if char in vowels:\n",
        "      vowel_count += 1\n",
        "  return vowel_count\n",
        "\n",
        "# Get input from the user\n",
        "input_string = input(\"Enter a string: \")\n",
        "\n",
        "# Count and display the vowels\n",
        "num_vowels = count_vowels(input_string)\n",
        "print(f\"No.of.vowels={num_vowels}\")"
      ],
      "execution_count": 5,
      "outputs": [
        {
          "output_type": "stream",
          "name": "stdout",
          "text": [
            "Enter a string: hi\n",
            "No.of.vowels=1\n"
          ]
        }
      ]
    },
    {
      "cell_type": "markdown",
      "source": [
        "Task Description#5\n",
        "●\tUse few-shot prompting to generate a function that reads a .txt file and returns the number of lines.\n",
        "Expected Output#5\n",
        "\n"
      ],
      "metadata": {
        "id": "_gp1iorQIgl0"
      }
    },
    {
      "cell_type": "code",
      "metadata": {
        "colab": {
          "base_uri": "https://localhost:8080/"
        },
        "id": "5d8cb0be",
        "outputId": "cf25b57e-3b43-4389-ef03-b90a909ccee1"
      },
      "source": [
        "def count_lines_in_file(filename):\n",
        "  \"\"\"Reads a file and returns the number of lines.\"\"\"\n",
        "  try:\n",
        "    with open(filename, 'r') as f:\n",
        "      lines = f.readlines()\n",
        "      return len(lines)\n",
        "  except FileNotFoundError:\n",
        "    return \"Error: The file was not found.\"\n",
        "  except Exception as e:\n",
        "    return f\"An error occurred: {e}\"\n",
        "\n",
        "# Specify the filename\n",
        "filename = \"poem.txt\"\n",
        "\n",
        "# Count the lines and display the result\n",
        "num_lines = count_lines_in_file(filename)\n",
        "\n",
        "if isinstance(num_lines, int):\n",
        "  print(f\"The file '{filename}' has {num_lines} lines.\")\n",
        "else:\n",
        "  print(num_lines)"
      ],
      "execution_count": 7,
      "outputs": [
        {
          "output_type": "stream",
          "name": "stdout",
          "text": [
            "The file 'poem.txt' has 5 lines.\n"
          ]
        }
      ]
    }
  ]
}